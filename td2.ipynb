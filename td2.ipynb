{
 "cells": [
  {
   "cell_type": "markdown",
   "metadata": {},
   "source": [
    "Question 1"
   ]
  },
  {
   "cell_type": "code",
   "execution_count": 5,
   "metadata": {},
   "outputs": [],
   "source": [
    "import json"
   ]
  },
  {
   "cell_type": "code",
   "execution_count": 6,
   "metadata": {},
   "outputs": [
    {
     "data": {
      "text/plain": [
       "[{'nom': 'Alice', 'age': 30, 'ville': 'Paris'},\n",
       " {'nom': 'Bob', 'age': 25, 'ville': 'Lyon'},\n",
       " {'nom': 'Charlie', 'age': 35, 'ville': 'Marseille'}]"
      ]
     },
     "execution_count": 6,
     "metadata": {},
     "output_type": "execute_result"
    }
   ],
   "source": [
    "with open('data.json','r') as f:\n",
    "    data = json.load(f)\n",
    "data"
   ]
  },
  {
   "cell_type": "markdown",
   "metadata": {},
   "source": [
    "Question 2"
   ]
  },
  {
   "cell_type": "code",
   "execution_count": 19,
   "metadata": {},
   "outputs": [
    {
     "name": "stdout",
     "output_type": "stream",
     "text": [
      "25\n"
     ]
    }
   ],
   "source": [
    "for i in data : \n",
    "        if i['nom'] == 'Bob':\n",
    "            print(i['age'])"
   ]
  },
  {
   "cell_type": "markdown",
   "metadata": {},
   "source": [
    "Question 3"
   ]
  },
  {
   "cell_type": "code",
   "execution_count": 20,
   "metadata": {},
   "outputs": [],
   "source": [
    "for i in data : \n",
    "        if i['nom'] == 'Alice':\n",
    "            i['age'] = 41"
   ]
  },
  {
   "cell_type": "code",
   "execution_count": 18,
   "metadata": {},
   "outputs": [
    {
     "data": {
      "text/plain": [
       "[{'nom': 'Alice', 'age': 31, 'ville': 'Paris'},\n",
       " {'nom': 'Bob', 'age': 25, 'ville': 'Lyon'},\n",
       " {'nom': 'Charlie', 'age': 35, 'ville': 'Marseille'},\n",
       " {'nom': 'Daniel', 'age': 40, 'ville': 'Nice'},\n",
       " {'nom': 'Daniel', 'age': 40, 'ville': 'Nice'}]"
      ]
     },
     "execution_count": 18,
     "metadata": {},
     "output_type": "execute_result"
    }
   ],
   "source": [
    "data.append({\"nom\": \"Daniel\", \"age\": 40, \"ville\": \"Nice\"})\n",
    "data"
   ]
  },
  {
   "cell_type": "markdown",
   "metadata": {},
   "source": [
    "Exercice 4"
   ]
  },
  {
   "cell_type": "code",
   "execution_count": 19,
   "metadata": {},
   "outputs": [
    {
     "data": {
      "text/plain": [
       "'[\\n    {\\n        \"nom\": \"Alice\",\\n        \"age\": 31,\\n        \"ville\": \"Paris\"\\n    },\\n    {\\n        \"nom\": \"Bob\",\\n        \"age\": 25,\\n        \"ville\": \"Lyon\"\\n    },\\n    {\\n        \"nom\": \"Charlie\",\\n        \"age\": 35,\\n        \"ville\": \"Marseille\"\\n    },\\n    {\\n        \"nom\": \"Daniel\",\\n        \"age\": 40,\\n        \"ville\": \"Nice\"\\n    },\\n    {\\n        \"nom\": \"Daniel\",\\n        \"age\": 40,\\n        \"ville\": \"Nice\"\\n    }\\n]'"
      ]
     },
     "execution_count": 19,
     "metadata": {},
     "output_type": "execute_result"
    }
   ],
   "source": [
    "json_str = json.dumps(data,indent=4)\n",
    "json_str"
   ]
  },
  {
   "cell_type": "markdown",
   "metadata": {},
   "source": [
    "Question 5"
   ]
  },
  {
   "cell_type": "code",
   "execution_count": null,
   "metadata": {},
   "outputs": [],
   "source": [
    "with open('updated_data.json','w') as f :\n",
    "    \n",
    "    "
   ]
  }
 ],
 "metadata": {
  "kernelspec": {
   "display_name": "Python 3",
   "language": "python",
   "name": "python3"
  },
  "language_info": {
   "codemirror_mode": {
    "name": "ipython",
    "version": 3
   },
   "file_extension": ".py",
   "mimetype": "text/x-python",
   "name": "python",
   "nbconvert_exporter": "python",
   "pygments_lexer": "ipython3",
   "version": "3.10.8"
  }
 },
 "nbformat": 4,
 "nbformat_minor": 2
}
